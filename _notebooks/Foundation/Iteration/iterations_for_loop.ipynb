{
 "cells": [
  {
   "cell_type": "raw",
   "metadata": {
    "vscode": {
     "languageId": "raw"
    }
   },
   "source": [
    "---\n",
    "layout: base\n",
    "title: For Loop 3.8.4\n",
    "author: Michael Xu\n",
    "description: For loops\n",
    "permalink: /iterations/3.8.4/\n",
    "--- "
   ]
  },
  {
   "cell_type": "markdown",
   "metadata": {
    "vscode": {
     "languageId": "plaintext"
    }
   },
   "source": [
    "### For loops"
   ]
  },
  {
   "cell_type": "markdown",
   "metadata": {},
   "source": [
    "#For loops can be used to iterate through **arrays** and **objects**"
   ]
  },
  {
   "cell_type": "code",
   "execution_count": null,
   "metadata": {
    "vscode": {
     "languageId": "javascript"
    }
   },
   "outputs": [],
   "source": [
    "const an_array_of_strings = ['apple','bananas','cherries','durian','eggplant']\n",
    "\n",
    "for (let a_string in an_array_of_strings) {\n",
    "    console.log(a_string)\n",
    "}\n"
   ]
  },
  {
   "cell_type": "code",
   "execution_count": null,
   "metadata": {
    "vscode": {
     "languageId": "java"
    }
   },
   "outputs": [],
   "source": [
    "from IPython.core.display import display, HTML\n",
    "\n",
    "html_code = \"\"\"\n",
    "<!DOCTYPE html>\n",
    "<html>\n",
    "<head>\n",
    "    <title>JS Output to DOM Example</title>\n",
    "    <script>\n",
    "        function updateOutput() {\n",
    "            // Get the current date and time\n",
    "            const now = new Date();\n",
    "            // Update the content of the output div\n",
    "            document.getElementById(\"output\").innerHTML = \"Current Date and Time: \" + now;\n",
    "        }\n",
    "    </script>\n",
    "</head>\n",
    "<body>\n",
    "    <h1>JavaScript Output to DOM</h1>\n",
    "    <button onclick=\"updateOutput()\">Show Current Date and Time</button>\n",
    "    <div id=\"output\" style=\"margin-top: 20px; font-size: 20px;\"></div>\n",
    "</body>\n",
    "</html>\n",
    "\"\"\"\n",
    "\n",
    "# Display the HTML in the notebook\n",
    "display(HTML(html_code))\n"
   ]
  }
 ],
 "metadata": {
  "kernelspec": {
   "display_name": "Java",
   "language": "java",
   "name": "java"
  },
  "language_info": {
   "codemirror_mode": "java",
   "file_extension": ".jshell",
   "mimetype": "text/x-java-source",
   "name": "Java",
   "pygments_lexer": "java",
   "version": "17.0.12+7-Ubuntu-1ubuntu222.04"
  }
 },
 "nbformat": 4,
 "nbformat_minor": 2
}
