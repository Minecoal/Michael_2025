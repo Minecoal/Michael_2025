{
 "cells": [
  {
   "cell_type": "markdown",
   "metadata": {
    "vscode": {
     "languageId": "plaintext"
    }
   },
   "source": [
    "# **For loops**"
   ]
  },
  {
   "cell_type": "markdown",
   "metadata": {},
   "source": [
    "For loops can also be used to iterate through **arrays** and **objects**"
   ]
  },
  {
   "cell_type": "markdown",
   "metadata": {},
   "source": [
    "#### Recall using for loops"
   ]
  },
  {
   "cell_type": "code",
   "execution_count": 6,
   "metadata": {
    "vscode": {
     "languageId": "javascript"
    }
   },
   "outputs": [
    {
     "data": {
      "application/javascript": "\nconst fruits = ['apple','bananas','cherries','durian'];\n\nfor (let i = 0; i < fruits.length; i++){\n    console.log(i);          // print the indices\n    console.log(fruits[i]); // print the elements\n}\n",
      "text/plain": [
       "<IPython.core.display.Javascript object>"
      ]
     },
     "metadata": {},
     "output_type": "display_data"
    }
   ],
   "source": [
    "%%js\n",
    "\n",
    "const fruits = ['apple','bananas','cherries','durian'];\n",
    "\n",
    "for (let i = 0; i < fruits.length; i++){\n",
    "    console.log(i);          // print the indices\n",
    "    console.log(fruits[i]); // print the elements\n",
    "}"
   ]
  },
  {
   "cell_type": "markdown",
   "metadata": {
    "vscode": {
     "languageId": "raw"
    }
   },
   "source": [
    "**output:**\n",
    "\n",
    "0  \n",
    "apple  \n",
    "1  \n",
    "bananas  \n",
    "2  \n",
    "cherries  \n",
    "3  \n",
    "durian"
   ]
  },
  {
   "cell_type": "markdown",
   "metadata": {},
   "source": [
    "We can achieve the same result using the keyword **of** to iterate over arrays"
   ]
  },
  {
   "cell_type": "code",
   "execution_count": 5,
   "metadata": {
    "vscode": {
     "languageId": "javascript"
    }
   },
   "outputs": [
    {
     "data": {
      "application/javascript": "\nconst fruits = ['apple','bananas','cherries','durian'];\n\nfor (let fruit of fruits) { //iterates through each element in the fruits array\n    console.log(fruit); //prints each element seperately\n}\n",
      "text/plain": [
       "<IPython.core.display.Javascript object>"
      ]
     },
     "metadata": {},
     "output_type": "display_data"
    }
   ],
   "source": [
    "%%js\n",
    "\n",
    "const fruits = ['apple','bananas','cherries','durian'];\n",
    "\n",
    "for (let fruit of fruits) { //iterates through each element in the fruits array\n",
    "    console.log(fruit); //prints each element seperately\n",
    "}"
   ]
  },
  {
   "cell_type": "markdown",
   "metadata": {},
   "source": [
    "**output:**\n",
    "\n",
    "apple  \n",
    "bananas  \n",
    "cherries  \n",
    "durian"
   ]
  },
  {
   "cell_type": "markdown",
   "metadata": {},
   "source": [
    "# **Popcorn Hack #1**\n",
    "\n",
    "create an array of **random integers**(positive or negative)\n",
    "\n",
    "iterate through each element of the array using **for ... of ...**\n",
    "\n",
    "use console.log() to print the results\n",
    "\n",
    "#### Optional\n",
    "\n",
    "use **if ... else...** to determine whether each element is positive or negative\n",
    "\n",
    "print the results (+ive or -ive)"
   ]
  },
  {
   "cell_type": "markdown",
   "metadata": {},
   "source": [
    "### Objects\n",
    "\n",
    "for loops can also be used to iterate **objects** over each **key** and its **value**"
   ]
  },
  {
   "cell_type": "code",
   "execution_count": null,
   "metadata": {
    "vscode": {
     "languageId": "javascript"
    }
   },
   "outputs": [],
   "source": [
    "%%js \n",
    "\n",
    "studentInfo"
   ]
  }
 ],
 "metadata": {
  "kernelspec": {
   "display_name": "venv",
   "language": "python",
   "name": "python3"
  },
  "language_info": {
   "codemirror_mode": {
    "name": "ipython",
    "version": 3
   },
   "file_extension": ".py",
   "mimetype": "text/x-python",
   "name": "python",
   "nbconvert_exporter": "python",
   "pygments_lexer": "ipython3",
   "version": "3.10.12"
  }
 },
 "nbformat": 4,
 "nbformat_minor": 2
}
