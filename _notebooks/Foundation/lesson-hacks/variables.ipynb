{
 "cells": [
  {
   "cell_type": "code",
   "execution_count": null,
   "metadata": {
    "vscode": {
     "languageId": "javascript"
    }
   },
   "outputs": [
    {
     "data": {
      "application/javascript": "let gameQuestion = \"My favorite video game is \";\nlet gameAnswer = \"Minecraft\";\nconsole.log(gameQuestion + gameAnswer);\n",
      "text/plain": [
       "<IPython.core.display.Javascript object>"
      ]
     },
     "metadata": {},
     "output_type": "display_data"
    }
   ],
   "source": [
    "%%js\n",
    "let gameQuestion = \"My favorite video game is \";\n",
    "let gameAnswer = \"Minecraft\";\n",
    "console.log(gameQuestion + gameAnswer);"
   ]
  },
  {
   "cell_type": "code",
   "execution_count": null,
   "metadata": {
    "vscode": {
     "languageId": "javascript"
    }
   },
   "outputs": [
    {
     "data": {
      "application/javascript": "let nullVar = null;\nlet undefinedVar;\nlet symbolVar = Symbol(\"MC\");\nconsole.log(nullVar);\nconsole.log(undefinedVar);\nconsole.log(symbolVar);\n",
      "text/plain": [
       "<IPython.core.display.Javascript object>"
      ]
     },
     "metadata": {},
     "output_type": "display_data"
    }
   ],
   "source": [
    "%%js \n",
    "let nullVar = null;\n",
    "let undefinedVar;\n",
    "let symbolVar = Symbol(\"MC\");\n",
    "console.log(nullVar);\n",
    "console.log(undefinedVar);\n",
    "console.log(symbolVar);"
   ]
  },
  {
   "cell_type": "code",
   "execution_count": 2,
   "metadata": {
    "vscode": {
     "languageId": "javascript"
    }
   },
   "outputs": [
    {
     "data": {
      "application/javascript": "\nlet myName = \"Michael\";\nlet myAge = 15;\nlet isStudent = true;\nlet favoriteSong = \"Money Game Part 2\";\nlet songArtist = \"Ren\";\nfunction playFavoriteSong(){\n    return \"Now playing \" + favoriteSong + \" by \" + songArtist;\n}\nconsole.log(\"My name is \" + myName + \", I'm \" + myAge + \" years old, and it is \" + isStudent + \" that I am a student. \" + playFavoriteSong())\n",
      "text/plain": [
       "<IPython.core.display.Javascript object>"
      ]
     },
     "metadata": {},
     "output_type": "display_data"
    }
   ],
   "source": [
    "%%js \n",
    "\n",
    "let myName = \"Michael\";\n",
    "let myAge = 15;\n",
    "let isStudent = true;\n",
    "let favoriteSong = \"Money Game Part 2\";\n",
    "let songArtist = \"Ren\";\n",
    "function playFavoriteSong(){\n",
    "    return \"Now playing \" + favoriteSong + \" by \" + songArtist;\n",
    "}\n",
    "console.log(\"My name is \" + myName + \", I'm \" + myAge + \" years old, and it is \" + isStudent + \" that I am a student. \" + playFavoriteSong())\n"
   ]
  }
 ],
 "metadata": {
  "kernelspec": {
   "display_name": "venv",
   "language": "python",
   "name": "python3"
  },
  "language_info": {
   "codemirror_mode": {
    "name": "ipython",
    "version": 3
   },
   "file_extension": ".py",
   "mimetype": "text/x-python",
   "name": "python",
   "nbconvert_exporter": "python",
   "pygments_lexer": "ipython3",
   "version": "3.10.12"
  }
 },
 "nbformat": 4,
 "nbformat_minor": 2
}
