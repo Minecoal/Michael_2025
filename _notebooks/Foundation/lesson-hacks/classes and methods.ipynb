{
 "cells": [
  {
   "cell_type": "markdown",
   "metadata": {},
   "source": [
    "popcorn hack 1"
   ]
  },
  {
   "cell_type": "code",
   "execution_count": null,
   "metadata": {
    "vscode": {
     "languageId": "javascript"
    }
   },
   "outputs": [],
   "source": [
    "%%js\n",
    "\n",
    "class Triangle {\n",
    "    constructor(base, height){\n",
    "        this.base = base\n",
    "        this.height = height\n",
    "    }\n",
    "    \n",
    "    get area(){\n",
    "        return this.calcArea();\n",
    "    }\n",
    "\n",
    "    calcArea(){\n",
    "        return this.base * this.height * 0.5\n",
    "    }\n",
    "    \n",
    "    *getSides(){\n",
    "        yield this.base\n",
    "        yield this.height\n",
    "        yield this.height\n",
    "    }\n",
    "\n",
    "}\n",
    "\n",
    "const triangle = new Triangle(10, 5);\n",
    "\n",
    "console.log(triangle.calcArea()); // 25\n",
    "console.log(triangle.area); // 25\n",
    "console.log([...triangle.getSides()]); // [10, 5, 10]\n"
   ]
  },
  {
   "cell_type": "markdown",
   "metadata": {},
   "source": [
    "popcorn hack 2"
   ]
  },
  {
   "cell_type": "code",
   "execution_count": null,
   "metadata": {
    "vscode": {
     "languageId": "javascript"
    }
   },
   "outputs": [],
   "source": [
    "%%js \n",
    "\n",
    "\n",
    "class Person {\n",
    "    \n",
    "    constructor(name, age, height, weight){\n",
    "        this.name = name;\n",
    "        this.age = age;\n",
    "        this.height = height;\n",
    "        this.weight = weight;\n",
    "    }\n",
    "\n",
    "    setName(newName) {\n",
    "        this.name = newName;\n",
    "    }\n",
    "    \n",
    "    setAge(newAge) {\n",
    "        this.nage = newAge;\n",
    "    }\n",
    "\n",
    "    getHeightWeight(){\n",
    "        return [this.height, this.weight];\n",
    "    }\n",
    "\n",
    "    getInfo(){\n",
    "        return \"This person is called \" + this.name + \", and is \" + this.age +\" years old\";\n",
    "    }\n",
    "}\n",
    "let newPerson = Person(null,null,170,140);\n",
    "newPerson.setAge(20);\n",
    "newPerson.setName(Alex);\n",
    "console.log(newPerson.getHeightWeight);\n",
    "console.log(newPerson.getInfo);"
   ]
  }
 ],
 "metadata": {
  "language_info": {
   "name": "python"
  }
 },
 "nbformat": 4,
 "nbformat_minor": 2
}
