{
 "cells": [
  {
   "cell_type": "markdown",
   "metadata": {},
   "source": [
    "popcorn hack 1"
   ]
  },
  {
   "cell_type": "code",
   "execution_count": null,
   "metadata": {
    "vscode": {
     "languageId": "javascript"
    }
   },
   "outputs": [],
   "source": [
    "%%js\n",
    "\n",
    "class Triangle {\n",
    "    constructor(base, height){\n",
    "        this.base = base\n",
    "        this.height = height\n",
    "    }\n",
    "    \n",
    "    get area(){\n",
    "        return this.calcArea();\n",
    "    }\n",
    "\n",
    "    calcArea(){\n",
    "        return this.base * this.height * 0.5\n",
    "    }\n",
    "    \n",
    "    *getSides(){\n",
    "        yield this.base\n",
    "        yield this.height\n",
    "        yield this.height\n",
    "    }\n",
    "\n",
    "}\n",
    "\n",
    "const triangle = new Triangle(10, 5);\n",
    "\n",
    "console.log(triangle.calcArea()); // 25\n",
    "console.log(triangle.area); // 25\n",
    "console.log([...triangle.getSides()]); // [10, 5, 10]\n"
   ]
  },
  {
   "cell_type": "markdown",
   "metadata": {},
   "source": [
    "popcorn hack 2"
   ]
  },
  {
   "cell_type": "code",
   "execution_count": null,
   "metadata": {
    "vscode": {
     "languageId": "javascript"
    }
   },
   "outputs": [],
   "source": [
    "%%js \n",
    "\n",
    "\n",
    "class Person {\n",
    "    \n",
    "    constructor(name, age, height, weight){\n",
    "        this.name = name;\n",
    "        this.age = age;\n",
    "        this.height = height;\n",
    "        this.weight = weight;\n",
    "    }\n",
    "\n",
    "    setName(newName) {\n",
    "        this.name = newName;\n",
    "    }\n",
    "    \n",
    "    setAge(newAge) {\n",
    "        this.nage = newAge;\n",
    "    }\n",
    "\n",
    "    getHeightWeight(){\n",
    "        return [this.height, this.weight];\n",
    "    }\n",
    "\n",
    "    getInfo(){\n",
    "        return \"This person is called \" + this.name + \", and is \" + this.age +\" years old\";\n",
    "    }\n",
    "}\n",
    "let newPerson = Person(null,null,170,140);\n",
    "newPerson.setAge(20);\n",
    "newPerson.setName(Alex);\n",
    "console.log(newPerson.getHeightWeight);\n",
    "console.log(newPerson.getInfo);"
   ]
  },
  {
   "cell_type": "code",
   "execution_count": null,
   "metadata": {
    "vscode": {
     "languageId": "javascript"
    }
   },
   "outputs": [],
   "source": [
    "%%js\n",
    "\n",
    "class Value {\n",
    "  static MULTIPLIER = 1.5; // Static variable for tax rate (8%)\n",
    "  static totalNumber = 0; // Static variable to track the total number of products\n",
    "\n",
    "  constructor(value) {\n",
    "    this.value = value;     // instance property\n",
    "    totalNumber++\n",
    "  }\n",
    "\n",
    "  // Instance method to calculate the price including tax\n",
    "  calculateValueWithMultiplier() {\n",
    "    return value * MULTIPLIER\n",
    "  }\n",
    "\n",
    "  // Static method to get the total number of products\n",
    "  static getTotalNumbers() {\n",
    "    return totalNumber\n",
    "  }\n",
    "}\n",
    "\n",
    "// Creating individual product instances\n",
    "const value1 = new Value(5);\n",
    "const value2 = new Value(10)\n",
    "\n",
    "console.log(\"Value 1: \" + value1.value);\n",
    "console.log(\"Value 2: \" + value2.value);\n",
    "\n",
    "// Using an instance method to calculate prices with tax\n",
    "console.log(\"Value 1 with multiplier: \" + value1.calculateValueWithMultiplier()); // Output: 1296 (1200 + 8% tax)\n",
    "console.log(\"Value 2 with multiplier: \" + value2.calculateValueWithMultiplier()); // Output: 864 (800 + 8% tax)\n",
    "\n",
    "// Accessing the static variable directly from the class\n",
    "console.log(\"Multiplier: \" + Value.MULTIPLIER); // Output: 1.5\n",
    "\n",
    "// Accessing the static method to get the total number of products\n",
    "console.log(\"Total number of values: \" + Value.getTotalNumbers()); // Output: 2s"
   ]
  },
  {
   "cell_type": "markdown",
   "metadata": {},
   "source": [
    "Homework"
   ]
  },
  {
   "cell_type": "code",
   "execution_count": null,
   "metadata": {
    "vscode": {
     "languageId": "javascript"
    }
   },
   "outputs": [],
   "source": [
    "%%js\n",
    "\n",
    "class Aircraft {\n",
    "    // Constructor\n",
    "    constructor(model, capacity, range) {\n",
    "        this._model = model; // _model is a convention to indicate that it's a private property\n",
    "        this._capacity = capacity; // _capacity is a convention to indicate that it's a private property\n",
    "        this._range = range; // _range is a convention to indicate that it's a private property\n",
    "    }\n",
    "\n",
    "    // Getter for model\n",
    "    get model() {\n",
    "        return this._model;\n",
    "    }\n",
    "\n",
    "    // Setter for model\n",
    "    set model(newModel) {\n",
    "        this._model = newModel;\n",
    "    }\n",
    "\n",
    "    // Getter for capacity\n",
    "    get capacity() {\n",
    "        return this._capacity;\n",
    "    }\n",
    "\n",
    "    // Setter for capacity\n",
    "    set capacity(newCapacity) {\n",
    "        this._capacity = newCapacity;\n",
    "    }\n",
    "\n",
    "    // Getter for range\n",
    "    get range() {\n",
    "        return this._range\n",
    "    }\n",
    "\n",
    "    // Setter for range\n",
    "    set range(newRange) {\n",
    "        this._range = newRange\n",
    "    }\n",
    "\n",
    "    // Method to display aircraft details\n",
    "    displayDetails() {\n",
    "        yield (model, capacity, range)\n",
    "    }\n",
    "\n",
    "    // Static method to compare range\n",
    "    static compareRange(aircraft1, aircraft2) {\n",
    "        return aircraft1.range - aircraft2.range;\n",
    "    }\n",
    "}\n",
    "\n",
    "// Example usage\n",
    "let boeing = new Aircraft('Boeing 747', 416, 13800);\n",
    "let airbus = new Aircraft('Airbus A380', 853, 15700);\n",
    "\n",
    "console.log(boeing.displayDetails());\n",
    "console.log(airbus.displayDetails());\n",
    "console.log(`Range difference: ${Aircraft.compareRange(boeing, airbus)} km`);\n",
    "\n",
    "// New content in the HW! Lo and behold, the FighterJet class! \n",
    "// For 1) do research. What does the extend keyword do in JavaScript?\n",
    "// Here's a quick rundown if you're in a hurry: \n",
    "// the extends keyword creates a child class (FighterJet) that inherits from a parent class (Aircraft).\n",
    "class FighterJet extends Aircraft {\n",
    "    constructor(model, capacity, range, speed) {\n",
    "        super(model, capacity, range); // We call the parent class constructor with super\n",
    "        this._speed = speed;\n",
    "    }\n",
    "\n",
    "    // TODO: Getter for speed\n",
    "    // Remember to use the _speed property for memory safety\n",
    "\n",
    "    // TODO: Setter for speed\n",
    "    // Remember to use the _speed property and add a function paramater.\n",
    "\n",
    "    // TODO: Method to display fighter jet details (model, capacity, range, speed)\n",
    "}\n",
    "\n",
    "// Example usage\n",
    "let f16 = new FighterJet('F-16', 1, 4220, 2400);\n",
    "let f22 = new FighterJet('F-22', 1, 2960, 2410);\n",
    "\n",
    "console.log(f16.displayDetails());\n",
    "console.log(f22.displayDetails());\n",
    "console.log(`Range difference: ${Aircraft.compareRange(f16, f22)} km`);"
   ]
  }
 ],
 "metadata": {
  "language_info": {
   "name": "python"
  }
 },
 "nbformat": 4,
 "nbformat_minor": 2
}
